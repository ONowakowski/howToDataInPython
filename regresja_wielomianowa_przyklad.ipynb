{
  "nbformat": 4,
  "nbformat_minor": 0,
  "metadata": {
    "colab": {
      "name": "regresja_wielomianowa_przyklad.ipynb",
      "provenance": [],
      "authorship_tag": "ABX9TyOvAVHEBJvjamGpeNf4T/uk",
      "include_colab_link": true
    },
    "kernelspec": {
      "name": "python3",
      "display_name": "Python 3"
    }
  },
  "cells": [
    {
      "cell_type": "markdown",
      "metadata": {
        "id": "view-in-github",
        "colab_type": "text"
      },
      "source": [
        "<a href=\"https://colab.research.google.com/github/ONowakowski/howToDataInPython/blob/master/regresja_wielomianowa_przyklad.ipynb\" target=\"_parent\"><img src=\"https://colab.research.google.com/assets/colab-badge.svg\" alt=\"Open In Colab\"/></a>"
      ]
    },
    {
      "cell_type": "code",
      "metadata": {
        "colab": {
          "base_uri": "https://localhost:8080/",
          "height": 268
        },
        "id": "UgRw6kQWac7R",
        "outputId": "36c3e0ba-2a7c-4d48-99db-7a73ceb172b9"
      },
      "source": [
        "import numpy as np\n",
        "import matplotlib.pyplot as plt\n",
        "import seaborn as sns\n",
        "sns.set()\n",
        "\n",
        "np.random.seed(10)\n",
        "X = np.arange(-10, 10, 0.5)\n",
        "noise = 80 * np.random.randn(40)\n",
        "y = -X**3 + 10*X**2 - 2*X + 3 + noise\n",
        "X = X.reshape(40, 1)\n",
        "_ = plt.scatter(X,y)"
      ],
      "execution_count": 4,
      "outputs": [
        {
          "output_type": "display_data",
          "data": {
            "image/png": "[encoded data removed]",
            "text/plain": [
              "<Figure size 432x288 with 1 Axes>"
            ]
          },
          "metadata": {
            "tags": []
          }
        }
      ]
    },
    {
      "cell_type": "markdown",
      "metadata": {
        "id": "hA_rldpUdFRl"
      },
      "source": [
        "rozważmy model regresji liniowej: y(w,x) = w0 + w1x1\n",
        "\n",
        "i dodajmy do niego cechy wielomianowe, zatem otrzymamy: y(w,x) = w0 + w1x1 + w2x1^2\n",
        "\n",
        "podstawiamy pod wektor wszystko z x-ami (i nie tylko) wielomian, zatem: z =[ 1x1, x1^2]\n",
        "\n",
        "i znow otrzymujemy model liniowy y(w, z) = w0 + w1z1 + w2z2"
      ]
    },
    {
      "cell_type": "markdown",
      "metadata": {
        "id": "If9JuMbCdSr6"
      },
      "source": [
        "#Ekstrakcja cech wielomianowych - stopień 2"
      ]
    },
    {
      "cell_type": "code",
      "metadata": {
        "colab": {
          "base_uri": "https://localhost:8080/"
        },
        "id": "C8ww8_EObFcL",
        "outputId": "3df95cc6-f160-413c-e481-09b581b51f1b"
      },
      "source": [
        "from sklearn.preprocessing import PolynomialFeatures\n",
        "\n",
        "poly = PolynomialFeatures(degree=2) #cechy wielomianowe stopnia 2\n",
        "X_poly = poly.fit_transform(X)\n",
        "X_poly\n"
      ],
      "execution_count": 2,
      "outputs": [
        {
          "output_type": "execute_result",
          "data": {
            "text/plain": [
              "array([[  1.  , -10.  , 100.  ],\n",
              "       [  1.  ,  -9.5 ,  90.25],\n",
              "       [  1.  ,  -9.  ,  81.  ],\n",
              "       [  1.  ,  -8.5 ,  72.25],\n",
              "       [  1.  ,  -8.  ,  64.  ],\n",
              "       [  1.  ,  -7.5 ,  56.25],\n",
              "       [  1.  ,  -7.  ,  49.  ],\n",
              "       [  1.  ,  -6.5 ,  42.25],\n",
              "       [  1.  ,  -6.  ,  36.  ],\n",
              "       [  1.  ,  -5.5 ,  30.25],\n",
              "       [  1.  ,  -5.  ,  25.  ],\n",
              "       [  1.  ,  -4.5 ,  20.25],\n",
              "       [  1.  ,  -4.  ,  16.  ],\n",
              "       [  1.  ,  -3.5 ,  12.25],\n",
              "       [  1.  ,  -3.  ,   9.  ],\n",
              "       [  1.  ,  -2.5 ,   6.25],\n",
              "       [  1.  ,  -2.  ,   4.  ],\n",
              "       [  1.  ,  -1.5 ,   2.25],\n",
              "       [  1.  ,  -1.  ,   1.  ],\n",
              "       [  1.  ,  -0.5 ,   0.25],\n",
              "       [  1.  ,   0.  ,   0.  ],\n",
              "       [  1.  ,   0.5 ,   0.25],\n",
              "       [  1.  ,   1.  ,   1.  ],\n",
              "       [  1.  ,   1.5 ,   2.25],\n",
              "       [  1.  ,   2.  ,   4.  ],\n",
              "       [  1.  ,   2.5 ,   6.25],\n",
              "       [  1.  ,   3.  ,   9.  ],\n",
              "       [  1.  ,   3.5 ,  12.25],\n",
              "       [  1.  ,   4.  ,  16.  ],\n",
              "       [  1.  ,   4.5 ,  20.25],\n",
              "       [  1.  ,   5.  ,  25.  ],\n",
              "       [  1.  ,   5.5 ,  30.25],\n",
              "       [  1.  ,   6.  ,  36.  ],\n",
              "       [  1.  ,   6.5 ,  42.25],\n",
              "       [  1.  ,   7.  ,  49.  ],\n",
              "       [  1.  ,   7.5 ,  56.25],\n",
              "       [  1.  ,   8.  ,  64.  ],\n",
              "       [  1.  ,   8.5 ,  72.25],\n",
              "       [  1.  ,   9.  ,  81.  ],\n",
              "       [  1.  ,   9.5 ,  90.25]])"
            ]
          },
          "metadata": {
            "tags": []
          },
          "execution_count": 2
        }
      ]
    },
    {
      "cell_type": "markdown",
      "metadata": {
        "id": "2jec_dX-ge-x"
      },
      "source": [
        "#Dopasowanie modelu"
      ]
    },
    {
      "cell_type": "code",
      "metadata": {
        "id": "JbENTmUddlVb",
        "colab": {
          "base_uri": "https://localhost:8080/",
          "height": 268
        },
        "outputId": "f3cb8c1a-977f-4f61-edfb-b8cc561e3d6b"
      },
      "source": [
        "from sklearn.linear_model import LinearRegression\n",
        "\n",
        "regressor_poly = LinearRegression()\n",
        "regressor_poly.fit(X_poly, y)\n",
        "\n",
        "y_pred = regressor_poly.predict(X_poly)\n",
        "plt.scatter(X, y)\n",
        "_ = plt.plot(X, y_pred, c='r')"
      ],
      "execution_count": 5,
      "outputs": [
        {
          "output_type": "display_data",
          "data": {
            "image/png": "[encoded data removed]",
            "text/plain": [
              "<Figure size 432x288 with 1 Axes>"
            ]
          },
          "metadata": {
            "tags": []
          }
        }
      ]
    },
    {
      "cell_type": "code",
      "metadata": {
        "colab": {
          "base_uri": "https://localhost:8080/"
        },
        "id": "s1xum2k2hDYK",
        "outputId": "9c7adb1c-ee3f-4e77-db19-0dbcf1ad5004"
      },
      "source": [
        "from sklearn.metrics import r2_score\n",
        "\n",
        "r2_score(y, y_pred)"
      ],
      "execution_count": 11,
      "outputs": [
        {
          "output_type": "execute_result",
          "data": {
            "text/plain": [
              "0.8868108782714799"
            ]
          },
          "metadata": {
            "tags": []
          },
          "execution_count": 11
        }
      ]
    },
    {
      "cell_type": "markdown",
      "metadata": {
        "id": "68C57Db3h_iw"
      },
      "source": [
        "#Ekstrakcja cech wielomianowych - stopień 3"
      ]
    },
    {
      "cell_type": "code",
      "metadata": {
        "colab": {
          "base_uri": "https://localhost:8080/"
        },
        "id": "vLda4lenhdsu",
        "outputId": "01acefe4-d1e8-4b17-ca2a-bfbdf58166d8"
      },
      "source": [
        "np.set_printoptions(suppress=True)\n",
        "\n",
        "poly = PolynomialFeatures(degree=3)\n",
        "X_poly = poly.fit_transform(X)\n",
        "X_poly"
      ],
      "execution_count": 12,
      "outputs": [
        {
          "output_type": "execute_result",
          "data": {
            "text/plain": [
              "array([[    1.   ,   -10.   ,   100.   , -1000.   ],\n",
              "       [    1.   ,    -9.5  ,    90.25 ,  -857.375],\n",
              "       [    1.   ,    -9.   ,    81.   ,  -729.   ],\n",
              "       [    1.   ,    -8.5  ,    72.25 ,  -614.125],\n",
              "       [    1.   ,    -8.   ,    64.   ,  -512.   ],\n",
              "       [    1.   ,    -7.5  ,    56.25 ,  -421.875],\n",
              "       [    1.   ,    -7.   ,    49.   ,  -343.   ],\n",
              "       [    1.   ,    -6.5  ,    42.25 ,  -274.625],\n",
              "       [    1.   ,    -6.   ,    36.   ,  -216.   ],\n",
              "       [    1.   ,    -5.5  ,    30.25 ,  -166.375],\n",
              "       [    1.   ,    -5.   ,    25.   ,  -125.   ],\n",
              "       [    1.   ,    -4.5  ,    20.25 ,   -91.125],\n",
              "       [    1.   ,    -4.   ,    16.   ,   -64.   ],\n",
              "       [    1.   ,    -3.5  ,    12.25 ,   -42.875],\n",
              "       [    1.   ,    -3.   ,     9.   ,   -27.   ],\n",
              "       [    1.   ,    -2.5  ,     6.25 ,   -15.625],\n",
              "       [    1.   ,    -2.   ,     4.   ,    -8.   ],\n",
              "       [    1.   ,    -1.5  ,     2.25 ,    -3.375],\n",
              "       [    1.   ,    -1.   ,     1.   ,    -1.   ],\n",
              "       [    1.   ,    -0.5  ,     0.25 ,    -0.125],\n",
              "       [    1.   ,     0.   ,     0.   ,     0.   ],\n",
              "       [    1.   ,     0.5  ,     0.25 ,     0.125],\n",
              "       [    1.   ,     1.   ,     1.   ,     1.   ],\n",
              "       [    1.   ,     1.5  ,     2.25 ,     3.375],\n",
              "       [    1.   ,     2.   ,     4.   ,     8.   ],\n",
              "       [    1.   ,     2.5  ,     6.25 ,    15.625],\n",
              "       [    1.   ,     3.   ,     9.   ,    27.   ],\n",
              "       [    1.   ,     3.5  ,    12.25 ,    42.875],\n",
              "       [    1.   ,     4.   ,    16.   ,    64.   ],\n",
              "       [    1.   ,     4.5  ,    20.25 ,    91.125],\n",
              "       [    1.   ,     5.   ,    25.   ,   125.   ],\n",
              "       [    1.   ,     5.5  ,    30.25 ,   166.375],\n",
              "       [    1.   ,     6.   ,    36.   ,   216.   ],\n",
              "       [    1.   ,     6.5  ,    42.25 ,   274.625],\n",
              "       [    1.   ,     7.   ,    49.   ,   343.   ],\n",
              "       [    1.   ,     7.5  ,    56.25 ,   421.875],\n",
              "       [    1.   ,     8.   ,    64.   ,   512.   ],\n",
              "       [    1.   ,     8.5  ,    72.25 ,   614.125],\n",
              "       [    1.   ,     9.   ,    81.   ,   729.   ],\n",
              "       [    1.   ,     9.5  ,    90.25 ,   857.375]])"
            ]
          },
          "metadata": {
            "tags": []
          },
          "execution_count": 12
        }
      ]
    },
    {
      "cell_type": "markdown",
      "metadata": {
        "id": "x7JoIE00iWi8"
      },
      "source": [
        "#Dopasowanie modelu"
      ]
    },
    {
      "cell_type": "code",
      "metadata": {
        "colab": {
          "base_uri": "https://localhost:8080/",
          "height": 268
        },
        "id": "SfQapzYGiO7-",
        "outputId": "d0e4f777-6845-434f-e4b6-5ccc88b9fe01"
      },
      "source": [
        "regressor_poly_3 = LinearRegression()\n",
        "regressor_poly_3.fit(X_poly, y)\n",
        "\n",
        "y_pred = regressor_poly_3.predict(X_poly)\n",
        "\n",
        "plt.scatter(X, y)\n",
        "_ = plt.plot(X, y_pred, c='r')"
      ],
      "execution_count": 14,
      "outputs": [
        {
          "output_type": "display_data",
          "data": {
            "image/png": "[encoded data removed]",
            "text/plain": [
              "<Figure size 432x288 with 1 Axes>"
            ]
          },
          "metadata": {
            "tags": []
          }
        }
      ]
    },
    {
      "cell_type": "code",
      "metadata": {
        "colab": {
          "base_uri": "https://localhost:8080/"
        },
        "id": "cvfhdGDJipEW",
        "outputId": "21d502ff-2898-4a65-a764-2fc390bdf58c"
      },
      "source": [
        "r2_score(y, y_pred)"
      ],
      "execution_count": 15,
      "outputs": [
        {
          "output_type": "execute_result",
          "data": {
            "text/plain": [
              "0.9794892924310306"
            ]
          },
          "metadata": {
            "tags": []
          },
          "execution_count": 15
        }
      ]
    },
    {
      "cell_type": "code",
      "metadata": {
        "id": "7ylHHHcaivjy"
      },
      "source": [
        ""
      ],
      "execution_count": null,
      "outputs": []
    }
  ]
}