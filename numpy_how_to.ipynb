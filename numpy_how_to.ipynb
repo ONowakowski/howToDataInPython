{
  "nbformat": 4,
  "nbformat_minor": 0,
  "metadata": {
    "colab": {
      "name": "numpy_how_to.ipynb",
      "provenance": [],
      "collapsed_sections": [
        "G_ZX0Oo7lnaT",
        "-gilhHA2piuJ",
        "b_oOo4xZsCop",
        "d0yqzm7t9BPa"
      ],
      "mount_file_id": "1cB890p93_I9rqElOxkfGk8l2Fpw3xQgk",
      "authorship_tag": "ABX9TyNJ8AnLUDnNMGMbZbcsqXTM",
      "include_colab_link": true
    },
    "kernelspec": {
      "name": "python3",
      "display_name": "Python 3"
    }
  },
  "cells": [
    {
      "cell_type": "markdown",
      "metadata": {
        "id": "view-in-github",
        "colab_type": "text"
      },
      "source": [
        "<a href=\"https://colab.research.google.com/github/ONowakowski/howToDataInPython/blob/master/numpy_how_to.ipynb\" target=\"_parent\"><img src=\"https://colab.research.google.com/assets/colab-badge.svg\" alt=\"Open In Colab\"/></a>"
      ]
    },
    {
      "cell_type": "code",
      "metadata": {
        "id": "xZ0LhhDyFS2P"
      },
      "source": [
        "import numpy as np\n"
      ],
      "execution_count": 2,
      "outputs": []
    },
    {
      "cell_type": "markdown",
      "metadata": {
        "id": "G_ZX0Oo7lnaT"
      },
      "source": [
        "# Array"
      ]
    },
    {
      "cell_type": "markdown",
      "metadata": {
        "id": "etyNu9zefieY"
      },
      "source": [
        "1D Array"
      ]
    },
    {
      "cell_type": "code",
      "metadata": {
        "id": "cut75yNJNOMh",
        "outputId": "9ea2fac8-ce50-4480-b8c2-89599c97ffc0",
        "colab": {
          "base_uri": "https://localhost:8080/",
          "height": 51
        }
      },
      "source": [
        "a = np.array([0,3]) #jednowymiarowa tablica\n",
        "print(a)\n",
        "a"
      ],
      "execution_count": null,
      "outputs": [
        {
          "output_type": "stream",
          "text": [
            "[0 3]\n"
          ],
          "name": "stdout"
        },
        {
          "output_type": "execute_result",
          "data": {
            "text/plain": [
              "array([0, 3])"
            ]
          },
          "metadata": {
            "tags": []
          },
          "execution_count": 13
        }
      ]
    },
    {
      "cell_type": "code",
      "metadata": {
        "id": "ADDz0RLqiXoH",
        "outputId": "4b0f2145-1646-4c7b-d4cb-748e098642a5",
        "colab": {
          "base_uri": "https://localhost:8080/",
          "height": 34
        }
      },
      "source": [
        "a.shape #ksztalt tablicy"
      ],
      "execution_count": null,
      "outputs": [
        {
          "output_type": "execute_result",
          "data": {
            "text/plain": [
              "(2,)"
            ]
          },
          "metadata": {
            "tags": []
          },
          "execution_count": 9
        }
      ]
    },
    {
      "cell_type": "code",
      "metadata": {
        "id": "LFs6LSa4ie2H",
        "outputId": "4961e54e-8a6a-44c4-a4ae-19e3165a9cf5",
        "colab": {
          "base_uri": "https://localhost:8080/",
          "height": 34
        }
      },
      "source": [
        "a.size #wymiar tablicy"
      ],
      "execution_count": null,
      "outputs": [
        {
          "output_type": "execute_result",
          "data": {
            "text/plain": [
              "2"
            ]
          },
          "metadata": {
            "tags": []
          },
          "execution_count": 10
        }
      ]
    },
    {
      "cell_type": "code",
      "metadata": {
        "id": "hutUf3Mui3Wa",
        "outputId": "e3d79b54-f47e-4280-95e2-fb5098698f5a",
        "colab": {
          "base_uri": "https://localhost:8080/",
          "height": 34
        }
      },
      "source": [
        "a.dtype #typ danych"
      ],
      "execution_count": null,
      "outputs": [
        {
          "output_type": "execute_result",
          "data": {
            "text/plain": [
              "dtype('int64')"
            ]
          },
          "metadata": {
            "tags": []
          },
          "execution_count": 12
        }
      ]
    },
    {
      "cell_type": "markdown",
      "metadata": {
        "id": "Nf1g5kg4jk0A"
      },
      "source": [
        "2D Array"
      ]
    },
    {
      "cell_type": "code",
      "metadata": {
        "id": "4q1zharwjpJA",
        "outputId": "6bf57966-c005-4adc-e2a2-474c1c87a266",
        "colab": {
          "base_uri": "https://localhost:8080/",
          "height": 119
        }
      },
      "source": [
        "a = np.array([[3.2, 4, 6.8], [7.2, 2.1, 4.4]])\n",
        "print(a, '\\n \\n')\n",
        "a"
      ],
      "execution_count": null,
      "outputs": [
        {
          "output_type": "stream",
          "text": [
            "[[3.2 4.  6.8]\n",
            " [7.2 2.1 4.4]] \n",
            " \n",
            "\n"
          ],
          "name": "stdout"
        },
        {
          "output_type": "execute_result",
          "data": {
            "text/plain": [
              "array([[3.2, 4. , 6.8],\n",
              "       [7.2, 2.1, 4.4]])"
            ]
          },
          "metadata": {
            "tags": []
          },
          "execution_count": 21
        }
      ]
    },
    {
      "cell_type": "code",
      "metadata": {
        "id": "Rx4pUnepj2Mb",
        "outputId": "a1105fe9-cb6d-4c90-ad91-758e811a27d1",
        "colab": {
          "base_uri": "https://localhost:8080/",
          "height": 34
        }
      },
      "source": [
        "a.ndim"
      ],
      "execution_count": null,
      "outputs": [
        {
          "output_type": "execute_result",
          "data": {
            "text/plain": [
              "2"
            ]
          },
          "metadata": {
            "tags": []
          },
          "execution_count": 24
        }
      ]
    },
    {
      "cell_type": "code",
      "metadata": {
        "id": "3uavXgCgkLcv",
        "outputId": "a7c63bdd-3e77-465e-aaf6-6dcc6d50aa6b",
        "colab": {
          "base_uri": "https://localhost:8080/",
          "height": 34
        }
      },
      "source": [
        "a.shape"
      ],
      "execution_count": null,
      "outputs": [
        {
          "output_type": "execute_result",
          "data": {
            "text/plain": [
              "(2, 3)"
            ]
          },
          "metadata": {
            "tags": []
          },
          "execution_count": 25
        }
      ]
    },
    {
      "cell_type": "markdown",
      "metadata": {
        "id": "Ip87IM8mleyi"
      },
      "source": [
        "3D Array\n"
      ]
    },
    {
      "cell_type": "code",
      "metadata": {
        "id": "C3d7jN60l3yi",
        "outputId": "ad091e65-e9ff-450c-d938-7ab60fb81acb",
        "colab": {
          "base_uri": "https://localhost:8080/",
          "height": 289
        }
      },
      "source": [
        "a = np.array(\n",
        "    [[[4, 1, 5],\n",
        "      [2, 4, 1],\n",
        "      [9, 12, 0]],\n",
        "     \n",
        "     [[2, 1, 5],\n",
        "      [6, 2, 1],\n",
        "      [4, 2, 0]]]\n",
        ")\n",
        "print(a, '\\n\\n')\n",
        "a"
      ],
      "execution_count": null,
      "outputs": [
        {
          "output_type": "stream",
          "text": [
            "[[[ 4  1  5]\n",
            "  [ 2  4  1]\n",
            "  [ 9 12  0]]\n",
            "\n",
            " [[ 2  1  5]\n",
            "  [ 6  2  1]\n",
            "  [ 4  2  0]]] \n",
            "\n",
            "\n"
          ],
          "name": "stdout"
        },
        {
          "output_type": "execute_result",
          "data": {
            "text/plain": [
              "array([[[ 4,  1,  5],\n",
              "        [ 2,  4,  1],\n",
              "        [ 9, 12,  0]],\n",
              "\n",
              "       [[ 2,  1,  5],\n",
              "        [ 6,  2,  1],\n",
              "        [ 4,  2,  0]]])"
            ]
          },
          "metadata": {
            "tags": []
          },
          "execution_count": 34
        }
      ]
    },
    {
      "cell_type": "code",
      "metadata": {
        "id": "hax0F99vnB2o",
        "outputId": "edefcf34-81c0-492f-b8a9-d852c4e65b2d",
        "colab": {
          "base_uri": "https://localhost:8080/",
          "height": 34
        }
      },
      "source": [
        "a.ndim"
      ],
      "execution_count": null,
      "outputs": [
        {
          "output_type": "execute_result",
          "data": {
            "text/plain": [
              "3"
            ]
          },
          "metadata": {
            "tags": []
          },
          "execution_count": 31
        }
      ]
    },
    {
      "cell_type": "code",
      "metadata": {
        "id": "DjNIcqtYnC4v",
        "outputId": "49c7c4ee-e47f-4906-a35a-f7d04b556f38",
        "colab": {
          "base_uri": "https://localhost:8080/",
          "height": 34
        }
      },
      "source": [
        "a.shape \n",
        "#shape opisuje ilosc tablic od zewnatrz, tzn. w glownym wymiarze sa dwie tablice, \n",
        "#kazda z nich ma po 3 tablice (3 wiersze), a kazdy z tych wierszy ma po 3 pozycje "
      ],
      "execution_count": null,
      "outputs": [
        {
          "output_type": "execute_result",
          "data": {
            "text/plain": [
              "(2, 3, 3)"
            ]
          },
          "metadata": {
            "tags": []
          },
          "execution_count": 35
        }
      ]
    },
    {
      "cell_type": "markdown",
      "metadata": {
        "id": "-gilhHA2piuJ"
      },
      "source": [
        "# Typy danych"
      ]
    },
    {
      "cell_type": "code",
      "metadata": {
        "id": "-S-JLYXnplP3",
        "outputId": "f6e9cc7b-3a81-442f-e880-cedf9bcfa341",
        "colab": {
          "base_uri": "https://localhost:8080/",
          "height": 34
        }
      },
      "source": [
        "#za pomoca parametru dtype mozemy okreslic typ danych w tablicy\n",
        "a = np.array([2.0, 3.1, 2], dtype='int')\n",
        "a"
      ],
      "execution_count": null,
      "outputs": [
        {
          "output_type": "execute_result",
          "data": {
            "text/plain": [
              "array([2, 3, 2])"
            ]
          },
          "metadata": {
            "tags": []
          },
          "execution_count": 36
        }
      ]
    },
    {
      "cell_type": "code",
      "metadata": {
        "id": "OI5qEpZhpu3x",
        "outputId": "cdd0e561-a2c7-4ad2-dd49-015a390f1994",
        "colab": {
          "base_uri": "https://localhost:8080/",
          "height": 34
        }
      },
      "source": [
        "a = np.array([2.0, 3.1, 2], dtype='complex')\n",
        "a"
      ],
      "execution_count": null,
      "outputs": [
        {
          "output_type": "execute_result",
          "data": {
            "text/plain": [
              "array([2. +0.j, 3.1+0.j, 2. +0.j])"
            ]
          },
          "metadata": {
            "tags": []
          },
          "execution_count": 37
        }
      ]
    },
    {
      "cell_type": "code",
      "metadata": {
        "id": "zQQnuKlVqZzW",
        "outputId": "aa155138-82f2-447e-82a3-9342d23e169b",
        "colab": {
          "base_uri": "https://localhost:8080/",
          "height": 34
        }
      },
      "source": [
        "a = np.array([True, False, False])\n",
        "a.dtype"
      ],
      "execution_count": null,
      "outputs": [
        {
          "output_type": "execute_result",
          "data": {
            "text/plain": [
              "dtype('bool')"
            ]
          },
          "metadata": {
            "tags": []
          },
          "execution_count": 41
        }
      ]
    },
    {
      "cell_type": "code",
      "metadata": {
        "id": "cjkFWdgrqebW",
        "outputId": "b09601aa-2a30-4970-d8e8-efac72314c84",
        "colab": {
          "base_uri": "https://localhost:8080/",
          "height": 51
        }
      },
      "source": [
        "#ograniczanie typu, np do uzywania kolorow \n",
        "#1 sposob 8bit: \n",
        "a = np.array([230, 254, 12], dtype=np.int8)\n",
        "print(a) #(jest ze znakiem wiec tylko do 128, czyli odpada)\n",
        "a.dtype"
      ],
      "execution_count": null,
      "outputs": [
        {
          "output_type": "stream",
          "text": [
            "[-26  -2  12]\n"
          ],
          "name": "stdout"
        },
        {
          "output_type": "execute_result",
          "data": {
            "text/plain": [
              "dtype('int8')"
            ]
          },
          "metadata": {
            "tags": []
          },
          "execution_count": 48
        }
      ]
    },
    {
      "cell_type": "code",
      "metadata": {
        "id": "gjiI6VrSrM8l",
        "outputId": "6ab1dfa3-a1b8-48e6-99b4-e4d92a3c289e",
        "colab": {
          "base_uri": "https://localhost:8080/",
          "height": 51
        }
      },
      "source": [
        "#2 sposob 8bit za pomoca unsigned int 8 \n",
        "a = np.array([210, 42, 1], dtype=np.uint8)\n",
        "print(a) #tutaj nie ma znaku, zatem max to 255\n",
        "a.dtype"
      ],
      "execution_count": null,
      "outputs": [
        {
          "output_type": "stream",
          "text": [
            "[210  42   1]\n"
          ],
          "name": "stdout"
        },
        {
          "output_type": "execute_result",
          "data": {
            "text/plain": [
              "dtype('uint8')"
            ]
          },
          "metadata": {
            "tags": []
          },
          "execution_count": 49
        }
      ]
    },
    {
      "cell_type": "markdown",
      "metadata": {
        "id": "b_oOo4xZsCop"
      },
      "source": [
        "# Tworzenie tablic"
      ]
    },
    {
      "cell_type": "code",
      "metadata": {
        "id": "HnsHRL2TsFIQ",
        "outputId": "12310fca-1c41-47cd-8aef-329c7393f5cb",
        "colab": {
          "base_uri": "https://localhost:8080/",
          "height": 136
        }
      },
      "source": [
        "#tworzenie tablicy wypełnionej zerami o danym ksztalcie\n",
        "np.zeros(shape=(2, 3, 4))"
      ],
      "execution_count": null,
      "outputs": [
        {
          "output_type": "execute_result",
          "data": {
            "text/plain": [
              "array([[[0., 0., 0., 0.],\n",
              "        [0., 0., 0., 0.],\n",
              "        [0., 0., 0., 0.]],\n",
              "\n",
              "       [[0., 0., 0., 0.],\n",
              "        [0., 0., 0., 0.],\n",
              "        [0., 0., 0., 0.]]])"
            ]
          },
          "metadata": {
            "tags": []
          },
          "execution_count": 50
        }
      ]
    },
    {
      "cell_type": "code",
      "metadata": {
        "id": "laCLWKOUsQja",
        "outputId": "396bdaef-e826-452b-9f73-59c44dafb9ca",
        "colab": {
          "base_uri": "https://localhost:8080/",
          "height": 51
        }
      },
      "source": [
        "#tworzenie tablicy wypełnionej jedynkami o danym ksztalcie\n",
        "np.ones(shape=(2,5), dtype='int')"
      ],
      "execution_count": null,
      "outputs": [
        {
          "output_type": "execute_result",
          "data": {
            "text/plain": [
              "array([[1, 1, 1, 1, 1],\n",
              "       [1, 1, 1, 1, 1]])"
            ]
          },
          "metadata": {
            "tags": []
          },
          "execution_count": 52
        }
      ]
    },
    {
      "cell_type": "code",
      "metadata": {
        "id": "Xa85yNlXsuJT",
        "outputId": "cc1cc83f-3acf-4e99-fb77-567858aa10ca",
        "colab": {
          "base_uri": "https://localhost:8080/",
          "height": 68
        }
      },
      "source": [
        "#tablica wypelniona jakakolwiek wartoscia\n",
        "np.full(shape=(3,2), fill_value=4, dtype='int')"
      ],
      "execution_count": null,
      "outputs": [
        {
          "output_type": "execute_result",
          "data": {
            "text/plain": [
              "array([[4, 4],\n",
              "       [4, 4],\n",
              "       [4, 4]])"
            ]
          },
          "metadata": {
            "tags": []
          },
          "execution_count": 54
        }
      ]
    },
    {
      "cell_type": "code",
      "metadata": {
        "id": "_ebsKdtys8--",
        "outputId": "08cb1c3a-34f3-4644-9a86-675ebf0eb604",
        "colab": {
          "base_uri": "https://localhost:8080/",
          "height": 34
        }
      },
      "source": [
        "#ostatnia liczba jest wylaczona!\n",
        "np.arange(10)"
      ],
      "execution_count": null,
      "outputs": [
        {
          "output_type": "execute_result",
          "data": {
            "text/plain": [
              "array([0, 1, 2, 3, 4, 5, 6, 7, 8, 9])"
            ]
          },
          "metadata": {
            "tags": []
          },
          "execution_count": 57
        }
      ]
    },
    {
      "cell_type": "code",
      "metadata": {
        "id": "n3epkOWAtZx_",
        "outputId": "6bbf7561-0478-443e-9531-fa0092a02de6",
        "colab": {
          "base_uri": "https://localhost:8080/",
          "height": 34
        }
      },
      "source": [
        "np.arange(2,10)"
      ],
      "execution_count": null,
      "outputs": [
        {
          "output_type": "execute_result",
          "data": {
            "text/plain": [
              "array([2, 3, 4, 5, 6, 7, 8, 9])"
            ]
          },
          "metadata": {
            "tags": []
          },
          "execution_count": 56
        }
      ]
    },
    {
      "cell_type": "code",
      "metadata": {
        "id": "NBirXs9ttdLN",
        "outputId": "d65bb89a-61ce-49b9-ed82-209bbac44467",
        "colab": {
          "base_uri": "https://localhost:8080/",
          "height": 34
        }
      },
      "source": [
        "#step ustala jakimi liczbami przeskakiwac (np. co dziesiata liczba)\n",
        "np.arange(start=0, stop=30, step=5)"
      ],
      "execution_count": null,
      "outputs": [
        {
          "output_type": "execute_result",
          "data": {
            "text/plain": [
              "array([ 0,  5, 10, 15, 20, 25])"
            ]
          },
          "metadata": {
            "tags": []
          },
          "execution_count": 58
        }
      ]
    },
    {
      "cell_type": "code",
      "metadata": {
        "id": "P7vqzxTXt4nk",
        "outputId": "134af913-c6a0-4f1a-847d-d6b364c62558",
        "colab": {
          "base_uri": "https://localhost:8080/",
          "height": 34
        }
      },
      "source": [
        "#malejaco\n",
        "np.arange(start=100, stop=90, step=-2) #nadal wylaczamy stop"
      ],
      "execution_count": null,
      "outputs": [
        {
          "output_type": "execute_result",
          "data": {
            "text/plain": [
              "array([100,  98,  96,  94,  92])"
            ]
          },
          "metadata": {
            "tags": []
          },
          "execution_count": 59
        }
      ]
    },
    {
      "cell_type": "code",
      "metadata": {
        "id": "8xZmxx9fuG-D",
        "outputId": "9a2afc59-d469-4aa6-c5b8-d549f8826961",
        "colab": {
          "base_uri": "https://localhost:8080/",
          "height": 34
        }
      },
      "source": [
        "#zmiennoprzecinkowo\n",
        "np.arange(start=1, stop=2, step=0.1)"
      ],
      "execution_count": null,
      "outputs": [
        {
          "output_type": "execute_result",
          "data": {
            "text/plain": [
              "array([1. , 1.1, 1.2, 1.3, 1.4, 1.5, 1.6, 1.7, 1.8, 1.9])"
            ]
          },
          "metadata": {
            "tags": []
          },
          "execution_count": 61
        }
      ]
    },
    {
      "cell_type": "code",
      "metadata": {
        "id": "B-EbU-t7xQz4",
        "outputId": "a433a02a-cdcb-493d-cef8-9a2d39006387",
        "colab": {
          "base_uri": "https://localhost:8080/",
          "height": 51
        }
      },
      "source": [
        "#funkcja linspace wypisuje num elementów równo rozłożonych z podanego przedziału\n",
        "np.linspace(start=1, stop=2, num=21) #czyli to samo co arange ze step 0.05 ALE włącznie ze stopem"
      ],
      "execution_count": null,
      "outputs": [
        {
          "output_type": "execute_result",
          "data": {
            "text/plain": [
              "array([1.  , 1.05, 1.1 , 1.15, 1.2 , 1.25, 1.3 , 1.35, 1.4 , 1.45, 1.5 ,\n",
              "       1.55, 1.6 , 1.65, 1.7 , 1.75, 1.8 , 1.85, 1.9 , 1.95, 2.  ])"
            ]
          },
          "metadata": {
            "tags": []
          },
          "execution_count": 64
        }
      ]
    },
    {
      "cell_type": "code",
      "metadata": {
        "id": "nWRV3NAHx2Zz",
        "outputId": "ab2fa14f-1078-4184-a69b-8e6a08c21706",
        "colab": {
          "base_uri": "https://localhost:8080/",
          "height": 85
        }
      },
      "source": [
        "#zmiana ksztaltu tablicy\n",
        "a = np.arange(16)\n",
        "a.reshape(4,4)"
      ],
      "execution_count": null,
      "outputs": [
        {
          "output_type": "execute_result",
          "data": {
            "text/plain": [
              "array([[ 0,  1,  2,  3],\n",
              "       [ 4,  5,  6,  7],\n",
              "       [ 8,  9, 10, 11],\n",
              "       [12, 13, 14, 15]])"
            ]
          },
          "metadata": {
            "tags": []
          },
          "execution_count": 67
        }
      ]
    },
    {
      "cell_type": "code",
      "metadata": {
        "id": "SlkkPCen0ylV",
        "outputId": "3b88f7b9-dbae-44d8-df92-83a6d12a1733",
        "colab": {
          "base_uri": "https://localhost:8080/",
          "height": 170
        }
      },
      "source": [
        "a.reshape(2,4,2)"
      ],
      "execution_count": null,
      "outputs": [
        {
          "output_type": "execute_result",
          "data": {
            "text/plain": [
              "array([[[ 0,  1],\n",
              "        [ 2,  3],\n",
              "        [ 4,  5],\n",
              "        [ 6,  7]],\n",
              "\n",
              "       [[ 8,  9],\n",
              "        [10, 11],\n",
              "        [12, 13],\n",
              "        [14, 15]]])"
            ]
          },
          "metadata": {
            "tags": []
          },
          "execution_count": 68
        }
      ]
    },
    {
      "cell_type": "code",
      "metadata": {
        "id": "unBuB_iM09uh",
        "outputId": "f35ed080-8f4c-4856-9eea-93f4e5b3ef32",
        "colab": {
          "base_uri": "https://localhost:8080/",
          "height": 51
        }
      },
      "source": [
        "#bez znajomosci ilosci elementow\n",
        "a.reshape(2, -1)"
      ],
      "execution_count": null,
      "outputs": [
        {
          "output_type": "execute_result",
          "data": {
            "text/plain": [
              "array([[ 0,  1,  2,  3,  4,  5,  6,  7],\n",
              "       [ 8,  9, 10, 11, 12, 13, 14, 15]])"
            ]
          },
          "metadata": {
            "tags": []
          },
          "execution_count": 69
        }
      ]
    },
    {
      "cell_type": "code",
      "metadata": {
        "id": "KZkSizBn1M2Q",
        "outputId": "c36c6dac-563e-4976-a059-2ee3f8085fed",
        "colab": {
          "base_uri": "https://localhost:8080/",
          "height": 153
        }
      },
      "source": [
        "a.reshape(-1, 2)"
      ],
      "execution_count": null,
      "outputs": [
        {
          "output_type": "execute_result",
          "data": {
            "text/plain": [
              "array([[ 0,  1],\n",
              "       [ 2,  3],\n",
              "       [ 4,  5],\n",
              "       [ 6,  7],\n",
              "       [ 8,  9],\n",
              "       [10, 11],\n",
              "       [12, 13],\n",
              "       [14, 15]])"
            ]
          },
          "metadata": {
            "tags": []
          },
          "execution_count": 70
        }
      ]
    },
    {
      "cell_type": "markdown",
      "metadata": {
        "id": "d0yqzm7t9BPa"
      },
      "source": [
        "#Operacje na tablicach"
      ]
    },
    {
      "cell_type": "code",
      "metadata": {
        "id": "2wY9DTQC9Dlz",
        "outputId": "806c741d-a413-4597-af74-4cb0c167987c",
        "colab": {
          "base_uri": "https://localhost:8080/",
          "height": 51
        }
      },
      "source": [
        "a = np.array([3,5,12,0])\n",
        "b = np.array([5,1,-4, 5])\n",
        "print(a)\n",
        "print(b)"
      ],
      "execution_count": null,
      "outputs": [
        {
          "output_type": "stream",
          "text": [
            "[ 3  5 12  0]\n",
            "[ 5  1 -4  5]\n"
          ],
          "name": "stdout"
        }
      ]
    },
    {
      "cell_type": "code",
      "metadata": {
        "id": "AfTp7vU89Pi8",
        "outputId": "e9f08132-b355-4e39-910f-912e01100c41",
        "colab": {
          "base_uri": "https://localhost:8080/",
          "height": 119
        }
      },
      "source": [
        "#konkretne elementy sa poddawane ze soba dzialaniom, tablice musza miec taka sama ilosc elementow\n",
        "print('a+b = ', a+b)\n",
        "print('a-b = ',a-b)\n",
        "print('a*b = ',a*b)\n",
        "print('a/b = ',a/b) #ta przez ktora dzielimy nie moze zawierac zera!\n",
        "print('a+3 = ',a+3) #dodanie stalej do kazdej z liczb w tablicy\n",
        "print('a+2*b = ',a + 2*b)"
      ],
      "execution_count": null,
      "outputs": [
        {
          "output_type": "stream",
          "text": [
            "a+b =  [8 6 8 5]\n",
            "a-b =  [-2  4 16 -5]\n",
            "a*b =  [ 15   5 -48   0]\n",
            "a/b =  [ 0.6  5.  -3.   0. ]\n",
            "a+3 =  [ 6  8 15  3]\n",
            "a+2*b =  [13  7  4 10]\n"
          ],
          "name": "stdout"
        }
      ]
    },
    {
      "cell_type": "code",
      "metadata": {
        "id": "ljFmSyt19XSR",
        "outputId": "c0c2d3cc-3e8c-4d30-8ab6-04064d0327cd",
        "colab": {
          "base_uri": "https://localhost:8080/",
          "height": 85
        }
      },
      "source": [
        "#funkcje do robienia powyzszych\n",
        "print(np.add(a,b))\n",
        "print(np.subtract(a,b))\n",
        "print(np.divide(a,b))\n",
        "print(np.multiply(a,b))"
      ],
      "execution_count": null,
      "outputs": [
        {
          "output_type": "stream",
          "text": [
            "[8 6 8 5]\n",
            "[-2  4 16 -5]\n",
            "[ 0.6  5.  -3.   0. ]\n",
            "[ 15   5 -48   0]\n"
          ],
          "name": "stdout"
        }
      ]
    },
    {
      "cell_type": "markdown",
      "metadata": {
        "id": "J08KIfO_ALpf"
      },
      "source": [
        "Mnożenie macierzowe"
      ]
    },
    {
      "cell_type": "code",
      "metadata": {
        "id": "xATr2lBd_qUl",
        "outputId": "4d8f490b-958c-4729-caa6-648194d8cbbf",
        "colab": {
          "base_uri": "https://localhost:8080/",
          "height": 102
        }
      },
      "source": [
        "x = np.array([[2, 5], [1, 4]])\n",
        "y = np.array([[4, 3], [2, 1]])\n",
        "print(x, '\\n')\n",
        "print(y)"
      ],
      "execution_count": null,
      "outputs": [
        {
          "output_type": "stream",
          "text": [
            "[[2 5]\n",
            " [1 4]] \n",
            "\n",
            "[[4 3]\n",
            " [2 1]]\n"
          ],
          "name": "stdout"
        }
      ]
    },
    {
      "cell_type": "code",
      "metadata": {
        "id": "z-3YJBV2AIE5",
        "outputId": "0e154cec-0bcc-4f49-b9f5-74b93e0aad72",
        "colab": {
          "base_uri": "https://localhost:8080/",
          "height": 51
        }
      },
      "source": [
        "np.dot(x,y)"
      ],
      "execution_count": null,
      "outputs": [
        {
          "output_type": "execute_result",
          "data": {
            "text/plain": [
              "array([[18, 11],\n",
              "       [12,  7]])"
            ]
          },
          "metadata": {
            "tags": []
          },
          "execution_count": 90
        }
      ]
    },
    {
      "cell_type": "code",
      "metadata": {
        "id": "-vktbi4NAXE4",
        "outputId": "2018943b-45e2-49ce-d325-c2b6217cc827",
        "colab": {
          "base_uri": "https://localhost:8080/",
          "height": 51
        }
      },
      "source": [
        "x.dot(y)"
      ],
      "execution_count": null,
      "outputs": [
        {
          "output_type": "execute_result",
          "data": {
            "text/plain": [
              "array([[18, 11],\n",
              "       [12,  7]])"
            ]
          },
          "metadata": {
            "tags": []
          },
          "execution_count": 91
        }
      ]
    },
    {
      "cell_type": "code",
      "metadata": {
        "id": "oNmQMkSeBWy2",
        "outputId": "025c9435-be2f-43fa-ce46-ddfcae1d1241",
        "colab": {
          "base_uri": "https://localhost:8080/",
          "height": 51
        }
      },
      "source": [
        "x @ y"
      ],
      "execution_count": null,
      "outputs": [
        {
          "output_type": "execute_result",
          "data": {
            "text/plain": [
              "array([[18, 11],\n",
              "       [12,  7]])"
            ]
          },
          "metadata": {
            "tags": []
          },
          "execution_count": 92
        }
      ]
    },
    {
      "cell_type": "markdown",
      "metadata": {
        "id": "rCunnO8XoBr9"
      },
      "source": [
        "#Generowanie liczb pseudolosowych"
      ]
    },
    {
      "cell_type": "code",
      "metadata": {
        "id": "2sLhwUdzoD4u"
      },
      "source": [
        "np.random.seed(0) #ustawianie ziarna, by za każdym razem z tym ziarnem losowa liczba była taka sama"
      ],
      "execution_count": 4,
      "outputs": []
    },
    {
      "cell_type": "code",
      "metadata": {
        "id": "cK_yw3aOoJnw",
        "outputId": "186ab491-5ccd-4c16-c8ed-73b2c73883e4",
        "colab": {
          "base_uri": "https://localhost:8080/",
          "height": 34
        }
      },
      "source": [
        "np.random.randn() #losowa liczba z rozkladu normalnego, srednia 0, odchylenie 1"
      ],
      "execution_count": 5,
      "outputs": [
        {
          "output_type": "execute_result",
          "data": {
            "text/plain": [
              "1.764052345967664"
            ]
          },
          "metadata": {
            "tags": []
          },
          "execution_count": 5
        }
      ]
    },
    {
      "cell_type": "code",
      "metadata": {
        "id": "Mr5ZbUwJsxk7",
        "outputId": "7d01cded-6326-411b-928a-d4feab390410",
        "colab": {
          "base_uri": "https://localhost:8080/",
          "height": 34
        }
      },
      "source": [
        "np.random.rand() #losowa liczba z przedziału 0-1 czyli rozkład jednostajny"
      ],
      "execution_count": 27,
      "outputs": [
        {
          "output_type": "execute_result",
          "data": {
            "text/plain": [
              "0.9689617652602737"
            ]
          },
          "metadata": {
            "tags": []
          },
          "execution_count": 27
        }
      ]
    },
    {
      "cell_type": "code",
      "metadata": {
        "id": "Uo7-Q10LtBSB",
        "outputId": "375b244e-fb7a-4658-d032-b99c012c23c0",
        "colab": {
          "base_uri": "https://localhost:8080/",
          "height": 51
        }
      },
      "source": [
        "np.random.randn(10) #10 losowych wyników z rozkładu normalnego"
      ],
      "execution_count": 7,
      "outputs": [
        {
          "output_type": "execute_result",
          "data": {
            "text/plain": [
              "array([ 0.40015721, -2.2683282 ,  1.33354538, -0.84272405,  1.96992445,\n",
              "        1.26611853, -0.50587654,  2.54520078,  1.08081191,  0.48431215])"
            ]
          },
          "metadata": {
            "tags": []
          },
          "execution_count": 7
        }
      ]
    },
    {
      "cell_type": "code",
      "metadata": {
        "id": "RgqxR_pRtHqR",
        "outputId": "782de886-d7e0-4e03-81d4-93e1a69863cb",
        "colab": {
          "base_uri": "https://localhost:8080/",
          "height": 187
        }
      },
      "source": [
        "np.random.randn(10,4) #np. 10 próbek po 4 kolumny z rozkładu normalnego"
      ],
      "execution_count": 10,
      "outputs": [
        {
          "output_type": "execute_result",
          "data": {
            "text/plain": [
              "array([[-0.4794198 ,  0.3113635 , -0.77602047, -0.30736481],\n",
              "       [-0.36652394,  1.11971196, -0.45792242,  0.4253934 ],\n",
              "       [-0.02797118,  1.47598983,  0.6467801 , -0.36433431],\n",
              "       [-0.67877739, -0.35362786, -0.74074747, -0.67502183],\n",
              "       [-0.13278426,  0.61980106,  1.79116846,  0.17100044],\n",
              "       [-1.72567135,  0.16065854, -0.85898532, -0.20642094],\n",
              "       [ 0.48842647, -0.83833097,  0.38116374, -0.99090328],\n",
              "       [ 1.01788005,  0.3415874 , -1.25088622,  0.92525075],\n",
              "       [-0.90478616,  1.84369153,  1.52550724, -1.44553558],\n",
              "       [ 0.37716061, -0.07055723,  0.60415971,  0.472149  ]])"
            ]
          },
          "metadata": {
            "tags": []
          },
          "execution_count": 10
        }
      ]
    },
    {
      "cell_type": "code",
      "metadata": {
        "id": "uA_6NCpmtdDo",
        "outputId": "7f260964-a314-4d15-f3a0-9471afbdc179",
        "colab": {
          "base_uri": "https://localhost:8080/",
          "height": 34
        }
      },
      "source": [
        "np.random.randint(10) #zwraca nieujemną liczbę mniejsza niż argument"
      ],
      "execution_count": 11,
      "outputs": [
        {
          "output_type": "execute_result",
          "data": {
            "text/plain": [
              "6"
            ]
          },
          "metadata": {
            "tags": []
          },
          "execution_count": 11
        }
      ]
    },
    {
      "cell_type": "code",
      "metadata": {
        "id": "cIEAjG-htjhn",
        "outputId": "ee1516d9-87a0-4ea0-907b-628187dfc983",
        "colab": {
          "base_uri": "https://localhost:8080/",
          "height": 34
        }
      },
      "source": [
        "np.random.randint(low=50, high = 101, size=10) #czyli 10 losowych liczb całkowitych od 50 do 100"
      ],
      "execution_count": 13,
      "outputs": [
        {
          "output_type": "execute_result",
          "data": {
            "text/plain": [
              "array([95, 61, 66, 74, 79, 71, 96, 75, 66, 69])"
            ]
          },
          "metadata": {
            "tags": []
          },
          "execution_count": 13
        }
      ]
    },
    {
      "cell_type": "code",
      "metadata": {
        "id": "jl4yFmzTt0Bv",
        "outputId": "c1c91ff0-2833-4c09-fd65-9e769cf53241",
        "colab": {
          "base_uri": "https://localhost:8080/",
          "height": 34
        }
      },
      "source": [
        "np.random.choice([4,2,6,2,6,2,1,10,32,22]) #zwraca losowy element z podanej listy (jakiegokolwiek typu)"
      ],
      "execution_count": 15,
      "outputs": [
        {
          "output_type": "execute_result",
          "data": {
            "text/plain": [
              "32"
            ]
          },
          "metadata": {
            "tags": []
          },
          "execution_count": 15
        }
      ]
    },
    {
      "cell_type": "markdown",
      "metadata": {
        "id": "aGGz6nGRuQNM"
      },
      "source": [
        "Mieszanie danych"
      ]
    },
    {
      "cell_type": "code",
      "metadata": {
        "id": "eK4zk-eYt-bX",
        "outputId": "8cac12dc-ceda-48c7-9635-a140fc157eae",
        "colab": {
          "base_uri": "https://localhost:8080/",
          "height": 34
        }
      },
      "source": [
        "data = np.arange(10)\n",
        "data"
      ],
      "execution_count": 16,
      "outputs": [
        {
          "output_type": "execute_result",
          "data": {
            "text/plain": [
              "array([0, 1, 2, 3, 4, 5, 6, 7, 8, 9])"
            ]
          },
          "metadata": {
            "tags": []
          },
          "execution_count": 16
        }
      ]
    },
    {
      "cell_type": "code",
      "metadata": {
        "id": "IJCpMCKTuLFF",
        "outputId": "f8f9c2fc-5955-45c0-a8d7-ab14ad35bd90",
        "colab": {
          "base_uri": "https://localhost:8080/",
          "height": 34
        }
      },
      "source": [
        "np.random.shuffle(data) #mieszamy dane w liscie, zmiany zachodza na obiekcie\n",
        "data"
      ],
      "execution_count": 18,
      "outputs": [
        {
          "output_type": "execute_result",
          "data": {
            "text/plain": [
              "array([0, 2, 5, 9, 6, 1, 8, 3, 7, 4])"
            ]
          },
          "metadata": {
            "tags": []
          },
          "execution_count": 18
        }
      ]
    },
    {
      "cell_type": "markdown",
      "metadata": {
        "id": "VkSQyKaSulHl"
      },
      "source": [
        "#Podstawowe funkcje w NumPy"
      ]
    },
    {
      "cell_type": "code",
      "metadata": {
        "id": "fYDTBtBWuoIz",
        "outputId": "669ea020-1704-40cb-f5c5-ad1412c3f373",
        "colab": {
          "base_uri": "https://localhost:8080/",
          "height": 34
        }
      },
      "source": [
        "np.exp(1) #liczba eulera do potegi podanej w nawiasie"
      ],
      "execution_count": 19,
      "outputs": [
        {
          "output_type": "execute_result",
          "data": {
            "text/plain": [
              "2.718281828459045"
            ]
          },
          "metadata": {
            "tags": []
          },
          "execution_count": 19
        }
      ]
    },
    {
      "cell_type": "code",
      "metadata": {
        "id": "BwJScaJOu2tO",
        "outputId": "26732b44-011d-44ff-fc0b-61f8989365ba",
        "colab": {
          "base_uri": "https://localhost:8080/",
          "height": 34
        }
      },
      "source": [
        "np.exp(2) "
      ],
      "execution_count": 20,
      "outputs": [
        {
          "output_type": "execute_result",
          "data": {
            "text/plain": [
              "7.38905609893065"
            ]
          },
          "metadata": {
            "tags": []
          },
          "execution_count": 20
        }
      ]
    },
    {
      "cell_type": "code",
      "metadata": {
        "id": "HzHlnDSAu4cL",
        "outputId": "ef7fe716-92ab-43ae-a208-145f74189e15",
        "colab": {
          "base_uri": "https://localhost:8080/",
          "height": 34
        }
      },
      "source": [
        "np.sqrt(16) #zwraca pierwiastek w typie float"
      ],
      "execution_count": 21,
      "outputs": [
        {
          "output_type": "execute_result",
          "data": {
            "text/plain": [
              "4.0"
            ]
          },
          "metadata": {
            "tags": []
          },
          "execution_count": 21
        }
      ]
    },
    {
      "cell_type": "code",
      "metadata": {
        "id": "MPHrRR5KvKvL",
        "outputId": "cf6288d0-e823-40fa-890e-9127c91319f3",
        "colab": {
          "base_uri": "https://localhost:8080/",
          "height": 34
        }
      },
      "source": [
        "np.all([2, 12, 9, 0]) #jesli ktorakolwiek z wartosci w liscie lub tablicy zwraca False to funkcja zwraca False, w innym przypadku True "
      ],
      "execution_count": 23,
      "outputs": [
        {
          "output_type": "execute_result",
          "data": {
            "text/plain": [
              "False"
            ]
          },
          "metadata": {
            "tags": []
          },
          "execution_count": 23
        }
      ]
    },
    {
      "cell_type": "code",
      "metadata": {
        "id": "CqelkBE6vZmy",
        "outputId": "059895ab-e4a1-4346-c7b6-42916acf86a3",
        "colab": {
          "base_uri": "https://localhost:8080/",
          "height": 34
        }
      },
      "source": [
        "np.all([2, 23, 44])"
      ],
      "execution_count": 24,
      "outputs": [
        {
          "output_type": "execute_result",
          "data": {
            "text/plain": [
              "True"
            ]
          },
          "metadata": {
            "tags": []
          },
          "execution_count": 24
        }
      ]
    },
    {
      "cell_type": "code",
      "metadata": {
        "id": "QUjdN2iSvbxK",
        "outputId": "b7793544-a28d-4c26-cb37-7d398dba8510",
        "colab": {
          "base_uri": "https://localhost:8080/",
          "height": 34
        }
      },
      "source": [
        "np.any([0.0, 1, 0]) #jesli ktorakolwiek z wartosci bedzie inna niz False (0) to zwraca true"
      ],
      "execution_count": 25,
      "outputs": [
        {
          "output_type": "execute_result",
          "data": {
            "text/plain": [
              "True"
            ]
          },
          "metadata": {
            "tags": []
          },
          "execution_count": 25
        }
      ]
    },
    {
      "cell_type": "code",
      "metadata": {
        "id": "2YO57DdCvkyR",
        "outputId": "ced922cf-2a33-4f9f-8434-8121cf5440e3",
        "colab": {
          "base_uri": "https://localhost:8080/",
          "height": 34
        }
      },
      "source": [
        "np.any([0, 0.0])"
      ],
      "execution_count": 26,
      "outputs": [
        {
          "output_type": "execute_result",
          "data": {
            "text/plain": [
              "False"
            ]
          },
          "metadata": {
            "tags": []
          },
          "execution_count": 26
        }
      ]
    },
    {
      "cell_type": "code",
      "metadata": {
        "id": "75y-ahJ3vmbh",
        "outputId": "0f444049-45ed-4b9b-c5a6-fce24de220c2",
        "colab": {
          "base_uri": "https://localhost:8080/",
          "height": 51
        }
      },
      "source": [
        "a = np.random.rand(5)\n",
        "print(a)\n",
        "\n",
        "np.argmax(a) #funkcja argmax zwraca indeks największej wartości w liście"
      ],
      "execution_count": 28,
      "outputs": [
        {
          "output_type": "stream",
          "text": [
            "[0.32099724 0.22126269 0.1412639  0.09725993 0.98404224]\n"
          ],
          "name": "stdout"
        },
        {
          "output_type": "execute_result",
          "data": {
            "text/plain": [
              "4"
            ]
          },
          "metadata": {
            "tags": []
          },
          "execution_count": 28
        }
      ]
    },
    {
      "cell_type": "code",
      "metadata": {
        "id": "XY1Hl5pKwWh3",
        "outputId": "03a87c59-7dc5-422c-d43c-5abb9840fe53",
        "colab": {
          "base_uri": "https://localhost:8080/",
          "height": 34
        }
      },
      "source": [
        "a[np.argmax(a)] #zdobycie powyższej wartości max"
      ],
      "execution_count": 30,
      "outputs": [
        {
          "output_type": "execute_result",
          "data": {
            "text/plain": [
              "0.9840422413641464"
            ]
          },
          "metadata": {
            "tags": []
          },
          "execution_count": 30
        }
      ]
    },
    {
      "cell_type": "code",
      "metadata": {
        "id": "GGpLFxjXwtQi",
        "outputId": "0a938ecc-3ea4-4bd3-a195-24061ff81cda",
        "colab": {
          "base_uri": "https://localhost:8080/",
          "height": 34
        }
      },
      "source": [
        "a[np.argmin(a)] #najmniejsza wartość"
      ],
      "execution_count": 33,
      "outputs": [
        {
          "output_type": "execute_result",
          "data": {
            "text/plain": [
              "0.09725992706317388"
            ]
          },
          "metadata": {
            "tags": []
          },
          "execution_count": 33
        }
      ]
    },
    {
      "cell_type": "code",
      "metadata": {
        "id": "SgVYrxCSwyxW",
        "outputId": "e47aaf84-1b37-4a16-cf68-2a4ca6ae5cb7",
        "colab": {
          "base_uri": "https://localhost:8080/",
          "height": 34
        }
      },
      "source": [
        "np.argsort(a) #pokazuje jak trzeba ułożyć indeksy by wartości były posortowane"
      ],
      "execution_count": 34,
      "outputs": [
        {
          "output_type": "execute_result",
          "data": {
            "text/plain": [
              "array([3, 2, 1, 0, 4])"
            ]
          },
          "metadata": {
            "tags": []
          },
          "execution_count": 34
        }
      ]
    },
    {
      "cell_type": "code",
      "metadata": {
        "id": "oTnK6OMQw8Nu",
        "outputId": "63e08e34-55dc-4a39-88af-0418aecf1eea",
        "colab": {
          "base_uri": "https://localhost:8080/",
          "height": 34
        }
      },
      "source": [
        "np.max(a)"
      ],
      "execution_count": 35,
      "outputs": [
        {
          "output_type": "execute_result",
          "data": {
            "text/plain": [
              "0.9840422413641464"
            ]
          },
          "metadata": {
            "tags": []
          },
          "execution_count": 35
        }
      ]
    },
    {
      "cell_type": "code",
      "metadata": {
        "id": "_A-U64-7xPpN",
        "outputId": "0cb65813-8184-4a68-faf1-54b56db6424c",
        "colab": {
          "base_uri": "https://localhost:8080/",
          "height": 34
        }
      },
      "source": [
        "np.min(a)"
      ],
      "execution_count": 36,
      "outputs": [
        {
          "output_type": "execute_result",
          "data": {
            "text/plain": [
              "0.09725992706317388"
            ]
          },
          "metadata": {
            "tags": []
          },
          "execution_count": 36
        }
      ]
    },
    {
      "cell_type": "code",
      "metadata": {
        "id": "o_6aA3YnxQiU",
        "outputId": "e56d2953-ca30-4909-d05a-5c9be2bc0d05",
        "colab": {
          "base_uri": "https://localhost:8080/",
          "height": 34
        }
      },
      "source": [
        "np.mean(a) #zwraca średnią"
      ],
      "execution_count": 37,
      "outputs": [
        {
          "output_type": "execute_result",
          "data": {
            "text/plain": [
              "0.3529651999820994"
            ]
          },
          "metadata": {
            "tags": []
          },
          "execution_count": 37
        }
      ]
    },
    {
      "cell_type": "code",
      "metadata": {
        "id": "6Tn_sN9ExUr-",
        "outputId": "26fe7d8a-a980-4732-b5e6-e934b6a94fa6",
        "colab": {
          "base_uri": "https://localhost:8080/",
          "height": 34
        }
      },
      "source": [
        "np.median(a) #zwraca mediane"
      ],
      "execution_count": 38,
      "outputs": [
        {
          "output_type": "execute_result",
          "data": {
            "text/plain": [
              "0.22126268518378278"
            ]
          },
          "metadata": {
            "tags": []
          },
          "execution_count": 38
        }
      ]
    },
    {
      "cell_type": "code",
      "metadata": {
        "id": "zS7xEheYxXqs",
        "outputId": "a8597dfc-5d5e-447b-adb5-6fd9b1304843",
        "colab": {
          "base_uri": "https://localhost:8080/",
          "height": 34
        }
      },
      "source": [
        "np.std(a) #zwraca odchylenie standardowe"
      ],
      "execution_count": 39,
      "outputs": [
        {
          "output_type": "execute_result",
          "data": {
            "text/plain": [
              "0.3246007886214498"
            ]
          },
          "metadata": {
            "tags": []
          },
          "execution_count": 39
        }
      ]
    },
    {
      "cell_type": "markdown",
      "metadata": {
        "id": "RB63QZNjxyNU"
      },
      "source": [
        "#Indeksowanie, wycinanie"
      ]
    },
    {
      "cell_type": "code",
      "metadata": {
        "id": "oYoY7_-wxz66",
        "outputId": "d07c7dd0-c572-4b4a-e2a9-04c6897edf86",
        "colab": {
          "base_uri": "https://localhost:8080/",
          "height": 51
        }
      },
      "source": [
        "a = np.arange(20)\n",
        "a"
      ],
      "execution_count": 40,
      "outputs": [
        {
          "output_type": "execute_result",
          "data": {
            "text/plain": [
              "array([ 0,  1,  2,  3,  4,  5,  6,  7,  8,  9, 10, 11, 12, 13, 14, 15, 16,\n",
              "       17, 18, 19])"
            ]
          },
          "metadata": {
            "tags": []
          },
          "execution_count": 40
        }
      ]
    },
    {
      "cell_type": "code",
      "metadata": {
        "id": "XTBgQvNzx5MT",
        "outputId": "186a38ad-e3fe-470c-ef24-0dc0a802ff90",
        "colab": {
          "base_uri": "https://localhost:8080/",
          "height": 34
        }
      },
      "source": [
        "a[2] #konkretny element"
      ],
      "execution_count": 41,
      "outputs": [
        {
          "output_type": "execute_result",
          "data": {
            "text/plain": [
              "2"
            ]
          },
          "metadata": {
            "tags": []
          },
          "execution_count": 41
        }
      ]
    },
    {
      "cell_type": "code",
      "metadata": {
        "id": "6n64PYDNx89D",
        "outputId": "3dedd3ac-2a4e-4dcc-8ffd-50df9c138e1b",
        "colab": {
          "base_uri": "https://localhost:8080/",
          "height": 34
        }
      },
      "source": [
        "a[2:6] #elementy od 2 do 6 wylaczajac ostatni"
      ],
      "execution_count": 42,
      "outputs": [
        {
          "output_type": "execute_result",
          "data": {
            "text/plain": [
              "array([2, 3, 4, 5])"
            ]
          },
          "metadata": {
            "tags": []
          },
          "execution_count": 42
        }
      ]
    },
    {
      "cell_type": "code",
      "metadata": {
        "id": "1gGgvtnByDNr",
        "outputId": "67d8fbc0-17c6-4edd-aea3-4db77f85743a",
        "colab": {
          "base_uri": "https://localhost:8080/",
          "height": 34
        }
      },
      "source": [
        "a[:10] #elementy od poczatku do 9 elementu"
      ],
      "execution_count": 43,
      "outputs": [
        {
          "output_type": "execute_result",
          "data": {
            "text/plain": [
              "array([0, 1, 2, 3, 4, 5, 6, 7, 8, 9])"
            ]
          },
          "metadata": {
            "tags": []
          },
          "execution_count": 43
        }
      ]
    },
    {
      "cell_type": "code",
      "metadata": {
        "id": "SKbn_ALjyOEa",
        "outputId": "06e8b5a1-2126-423b-f376-1cc70a75e280",
        "colab": {
          "base_uri": "https://localhost:8080/",
          "height": 34
        }
      },
      "source": [
        "a[17:] #od 17 el. do konca"
      ],
      "execution_count": 44,
      "outputs": [
        {
          "output_type": "execute_result",
          "data": {
            "text/plain": [
              "array([17, 18, 19])"
            ]
          },
          "metadata": {
            "tags": []
          },
          "execution_count": 44
        }
      ]
    },
    {
      "cell_type": "code",
      "metadata": {
        "id": "H1UJEh9dySMp",
        "outputId": "d446cdf1-0ea1-4dac-df16-fab4a07d4496",
        "colab": {
          "base_uri": "https://localhost:8080/",
          "height": 34
        }
      },
      "source": [
        "a[3:-1] #podajac -1 mamy na mysli ostatnia pozycje w zbiorze, w tym przypadku 19, ktora nie zostanie wzieta pod uwage"
      ],
      "execution_count": 46,
      "outputs": [
        {
          "output_type": "execute_result",
          "data": {
            "text/plain": [
              "array([ 3,  4,  5,  6,  7,  8,  9, 10, 11, 12, 13, 14, 15, 16, 17, 18])"
            ]
          },
          "metadata": {
            "tags": []
          },
          "execution_count": 46
        }
      ]
    },
    {
      "cell_type": "code",
      "metadata": {
        "id": "7JG8pqh2yXEC",
        "outputId": "78c90160-7001-4299-b69e-a3b7d5ecdea6",
        "colab": {
          "base_uri": "https://localhost:8080/",
          "height": 34
        }
      },
      "source": [
        "a[-1:] #zwraca ostatni element"
      ],
      "execution_count": 50,
      "outputs": [
        {
          "output_type": "execute_result",
          "data": {
            "text/plain": [
              "array([19])"
            ]
          },
          "metadata": {
            "tags": []
          },
          "execution_count": 50
        }
      ]
    },
    {
      "cell_type": "code",
      "metadata": {
        "id": "azZZYZb-yk1R",
        "outputId": "ba8c0879-ff0b-4627-b0ae-59efbb95aebc",
        "colab": {
          "base_uri": "https://localhost:8080/",
          "height": 34
        }
      },
      "source": [
        "a[[13, 19]] #wybiera elementy o indeksach przekazanych w liscie"
      ],
      "execution_count": 52,
      "outputs": [
        {
          "output_type": "execute_result",
          "data": {
            "text/plain": [
              "array([13, 19])"
            ]
          },
          "metadata": {
            "tags": []
          },
          "execution_count": 52
        }
      ]
    },
    {
      "cell_type": "code",
      "metadata": {
        "id": "_hiq-HbHy4f4",
        "outputId": "8bc082b7-fb21-44ae-8d86-c226383b7a1b",
        "colab": {
          "base_uri": "https://localhost:8080/",
          "height": 85
        }
      },
      "source": [
        "a = a.reshape(4,5)\n",
        "a"
      ],
      "execution_count": 55,
      "outputs": [
        {
          "output_type": "execute_result",
          "data": {
            "text/plain": [
              "array([[ 0,  1,  2,  3,  4],\n",
              "       [ 5,  6,  7,  8,  9],\n",
              "       [10, 11, 12, 13, 14],\n",
              "       [15, 16, 17, 18, 19]])"
            ]
          },
          "metadata": {
            "tags": []
          },
          "execution_count": 55
        }
      ]
    },
    {
      "cell_type": "code",
      "metadata": {
        "id": "tH0oY46QzMU3",
        "outputId": "cf9e2043-4b36-45e8-d647-211c5a7cf2ec",
        "colab": {
          "base_uri": "https://localhost:8080/",
          "height": 34
        }
      },
      "source": [
        "a[2] #wycinamy trzeci wiersz"
      ],
      "execution_count": 57,
      "outputs": [
        {
          "output_type": "execute_result",
          "data": {
            "text/plain": [
              "array([10, 11, 12, 13, 14])"
            ]
          },
          "metadata": {
            "tags": []
          },
          "execution_count": 57
        }
      ]
    },
    {
      "cell_type": "code",
      "metadata": {
        "id": "AJmpO6UGzTJf",
        "outputId": "d77a3a74-4f5d-4365-f9eb-a7760adc8325",
        "colab": {
          "base_uri": "https://localhost:8080/",
          "height": 34
        }
      },
      "source": [
        "a[:, 0] #wycinamy wszystkie wiersze, pierwsza kolumne"
      ],
      "execution_count": 59,
      "outputs": [
        {
          "output_type": "execute_result",
          "data": {
            "text/plain": [
              "array([ 0,  5, 10, 15])"
            ]
          },
          "metadata": {
            "tags": []
          },
          "execution_count": 59
        }
      ]
    },
    {
      "cell_type": "code",
      "metadata": {
        "id": "bfQ-OWvizjhO",
        "outputId": "d69007ad-3212-4ec5-dca7-8dde415f8f1c",
        "colab": {
          "base_uri": "https://localhost:8080/",
          "height": 34
        }
      },
      "source": [
        "a[:, -1] #pobieramy ostatnią kolumnę"
      ],
      "execution_count": 60,
      "outputs": [
        {
          "output_type": "execute_result",
          "data": {
            "text/plain": [
              "array([ 4,  9, 14, 19])"
            ]
          },
          "metadata": {
            "tags": []
          },
          "execution_count": 60
        }
      ]
    },
    {
      "cell_type": "code",
      "metadata": {
        "id": "_FxhcM9gzxbt",
        "outputId": "ee1fcc6e-4605-4b4d-aefa-41e3c4903927",
        "colab": {
          "base_uri": "https://localhost:8080/",
          "height": 34
        }
      },
      "source": [
        "a[1, 3] #wyciecie 8, czyli drugi wiersz, czwarta kolumna"
      ],
      "execution_count": 61,
      "outputs": [
        {
          "output_type": "execute_result",
          "data": {
            "text/plain": [
              "8"
            ]
          },
          "metadata": {
            "tags": []
          },
          "execution_count": 61
        }
      ]
    },
    {
      "cell_type": "code",
      "metadata": {
        "id": "CJMQCk7Jz-01",
        "outputId": "62b85c5f-2537-4eb6-ecd8-9c12d642bc23",
        "colab": {
          "base_uri": "https://localhost:8080/",
          "height": 34
        }
      },
      "source": [
        "a[2, 1:4] #wyciecie [11,12,13], czyli trzeci wiersz i kolumny 2-4"
      ],
      "execution_count": 62,
      "outputs": [
        {
          "output_type": "execute_result",
          "data": {
            "text/plain": [
              "array([11, 12, 13])"
            ]
          },
          "metadata": {
            "tags": []
          },
          "execution_count": 62
        }
      ]
    },
    {
      "cell_type": "code",
      "metadata": {
        "id": "Mf41tQcj0R3s",
        "outputId": "80ce600a-7887-4b94-d67b-2d9f6adbaa5b",
        "colab": {
          "base_uri": "https://localhost:8080/",
          "height": 51
        }
      },
      "source": [
        "a[0:2, 1:4] "
      ],
      "execution_count": 64,
      "outputs": [
        {
          "output_type": "execute_result",
          "data": {
            "text/plain": [
              "array([[1, 2, 3],\n",
              "       [6, 7, 8]])"
            ]
          },
          "metadata": {
            "tags": []
          },
          "execution_count": 64
        }
      ]
    },
    {
      "cell_type": "code",
      "metadata": {
        "id": "ONLps3KX0g2E",
        "outputId": "599f8ff0-330d-487a-f1b2-4edf846cc5ab",
        "colab": {
          "base_uri": "https://localhost:8080/",
          "height": 85
        }
      },
      "source": [
        "b = np.array([np.arange(2), np.arange(4,6), np.arange(11, 13), np.arange(19, 21)])\n",
        "b"
      ],
      "execution_count": 66,
      "outputs": [
        {
          "output_type": "execute_result",
          "data": {
            "text/plain": [
              "array([[ 0,  1],\n",
              "       [ 4,  5],\n",
              "       [11, 12],\n",
              "       [19, 20]])"
            ]
          },
          "metadata": {
            "tags": []
          },
          "execution_count": 66
        }
      ]
    },
    {
      "cell_type": "code",
      "metadata": {
        "id": "KK-rLHMn28OJ",
        "outputId": "ba9574e4-98d9-40e0-e75d-5e2d02d770f3",
        "colab": {
          "base_uri": "https://localhost:8080/",
          "height": 85
        }
      },
      "source": [
        "a[:, 0:2] = b #przypisywanie wartosci z b pierwszym dwóm kolumnom z tablicy a\n",
        "a"
      ],
      "execution_count": 67,
      "outputs": [
        {
          "output_type": "execute_result",
          "data": {
            "text/plain": [
              "array([[ 0,  1,  2,  3,  4],\n",
              "       [ 4,  5,  7,  8,  9],\n",
              "       [11, 12, 12, 13, 14],\n",
              "       [19, 20, 17, 18, 19]])"
            ]
          },
          "metadata": {
            "tags": []
          },
          "execution_count": 67
        }
      ]
    },
    {
      "cell_type": "markdown",
      "metadata": {
        "id": "Fp7-NO5L3h0E"
      },
      "source": [
        "#Iterowanie po tablicach"
      ]
    },
    {
      "cell_type": "code",
      "metadata": {
        "id": "qhvqJAG93jRu",
        "outputId": "d9a58e78-565c-4b1d-9e76-32abab847b45",
        "colab": {
          "base_uri": "https://localhost:8080/",
          "height": 85
        }
      },
      "source": [
        "a"
      ],
      "execution_count": 68,
      "outputs": [
        {
          "output_type": "execute_result",
          "data": {
            "text/plain": [
              "array([[ 0,  1,  2,  3,  4],\n",
              "       [ 4,  5,  7,  8,  9],\n",
              "       [11, 12, 12, 13, 14],\n",
              "       [19, 20, 17, 18, 19]])"
            ]
          },
          "metadata": {
            "tags": []
          },
          "execution_count": 68
        }
      ]
    },
    {
      "cell_type": "code",
      "metadata": {
        "id": "4UxDjHfV4i-j",
        "outputId": "8515fd7d-3fc5-427b-fa5e-e41309d8404c",
        "colab": {
          "base_uri": "https://localhost:8080/",
          "height": 85
        }
      },
      "source": [
        "#iterowanie po wierszach\n",
        "for row in a:\n",
        "  print(row)"
      ],
      "execution_count": 69,
      "outputs": [
        {
          "output_type": "stream",
          "text": [
            "[0 1 2 3 4]\n",
            "[4 5 7 8 9]\n",
            "[11 12 12 13 14]\n",
            "[19 20 17 18 19]\n"
          ],
          "name": "stdout"
        }
      ]
    },
    {
      "cell_type": "code",
      "metadata": {
        "id": "RLryCPw74pPo",
        "outputId": "babe40ab-3f96-4fb7-91c9-45e18bf9c0d8",
        "colab": {
          "base_uri": "https://localhost:8080/",
          "height": 85
        }
      },
      "source": [
        "#iterowanie po ntej kolumnie\n",
        "for row in a:\n",
        "  print(row[2])"
      ],
      "execution_count": 72,
      "outputs": [
        {
          "output_type": "stream",
          "text": [
            "2\n",
            "7\n",
            "12\n",
            "17\n"
          ],
          "name": "stdout"
        }
      ]
    },
    {
      "cell_type": "code",
      "metadata": {
        "id": "SfZ-cdPi4yF4",
        "outputId": "8b5f29aa-6ad7-426a-d034-0ba4396442aa",
        "colab": {
          "base_uri": "https://localhost:8080/",
          "height": 357
        }
      },
      "source": [
        "#iterowanie po calej tablicy za pomoca wyplaszczenia jej\n",
        "for item in a.flat:\n",
        "  print(item)"
      ],
      "execution_count": 73,
      "outputs": [
        {
          "output_type": "stream",
          "text": [
            "0\n",
            "1\n",
            "2\n",
            "3\n",
            "4\n",
            "4\n",
            "5\n",
            "7\n",
            "8\n",
            "9\n",
            "11\n",
            "12\n",
            "12\n",
            "13\n",
            "14\n",
            "19\n",
            "20\n",
            "17\n",
            "18\n",
            "19\n"
          ],
          "name": "stdout"
        }
      ]
    },
    {
      "cell_type": "markdown",
      "metadata": {
        "id": "tB-e67CP5Oi_"
      },
      "source": [
        "#Zmiana rozmiaru tablic"
      ]
    },
    {
      "cell_type": "code",
      "metadata": {
        "id": "ZO6AEvOC5Ryu",
        "outputId": "c00fac5b-221a-4744-913c-7bd1f78ce647",
        "colab": {
          "base_uri": "https://localhost:8080/",
          "height": 85
        }
      },
      "source": [
        "a"
      ],
      "execution_count": 74,
      "outputs": [
        {
          "output_type": "execute_result",
          "data": {
            "text/plain": [
              "array([[ 0,  1,  2,  3,  4],\n",
              "       [ 4,  5,  7,  8,  9],\n",
              "       [11, 12, 12, 13, 14],\n",
              "       [19, 20, 17, 18, 19]])"
            ]
          },
          "metadata": {
            "tags": []
          },
          "execution_count": 74
        }
      ]
    },
    {
      "cell_type": "code",
      "metadata": {
        "id": "kdIlpNCQ5TeO",
        "outputId": "692ec58b-4c71-4172-d4cc-2059153f0f51",
        "colab": {
          "base_uri": "https://localhost:8080/",
          "height": 34
        }
      },
      "source": [
        "a.shape"
      ],
      "execution_count": 75,
      "outputs": [
        {
          "output_type": "execute_result",
          "data": {
            "text/plain": [
              "(4, 5)"
            ]
          },
          "metadata": {
            "tags": []
          },
          "execution_count": 75
        }
      ]
    },
    {
      "cell_type": "code",
      "metadata": {
        "id": "nLF3ZzUr5UN-",
        "outputId": "42fb8287-a40f-4bfb-d747-f6cf49243025",
        "colab": {
          "base_uri": "https://localhost:8080/",
          "height": 102
        }
      },
      "source": [
        "a.reshape(5,4)"
      ],
      "execution_count": 76,
      "outputs": [
        {
          "output_type": "execute_result",
          "data": {
            "text/plain": [
              "array([[ 0,  1,  2,  3],\n",
              "       [ 4,  4,  5,  7],\n",
              "       [ 8,  9, 11, 12],\n",
              "       [12, 13, 14, 19],\n",
              "       [20, 17, 18, 19]])"
            ]
          },
          "metadata": {
            "tags": []
          },
          "execution_count": 76
        }
      ]
    },
    {
      "cell_type": "code",
      "metadata": {
        "id": "Z1KLrUKr5WIh",
        "outputId": "770cb05d-7404-4021-e2ab-dde7afac4edd",
        "colab": {
          "base_uri": "https://localhost:8080/",
          "height": 51
        }
      },
      "source": [
        "a.ravel() #wyplaszczanie tablicy"
      ],
      "execution_count": 79,
      "outputs": [
        {
          "output_type": "execute_result",
          "data": {
            "text/plain": [
              "array([ 0,  1,  2,  3,  4,  4,  5,  7,  8,  9, 11, 12, 12, 13, 14, 19, 20,\n",
              "       17, 18, 19])"
            ]
          },
          "metadata": {
            "tags": []
          },
          "execution_count": 79
        }
      ]
    },
    {
      "cell_type": "code",
      "metadata": {
        "id": "EIt0fWx_5adW",
        "outputId": "86ad53e5-72c1-488d-e20f-c901c81f1db7",
        "colab": {
          "base_uri": "https://localhost:8080/",
          "height": 102
        }
      },
      "source": [
        "a.T #transponowanie macierzy, czyli zamiana kolumn na wiersze"
      ],
      "execution_count": 80,
      "outputs": [
        {
          "output_type": "execute_result",
          "data": {
            "text/plain": [
              "array([[ 0,  4, 11, 19],\n",
              "       [ 1,  5, 12, 20],\n",
              "       [ 2,  7, 12, 17],\n",
              "       [ 3,  8, 13, 18],\n",
              "       [ 4,  9, 14, 19]])"
            ]
          },
          "metadata": {
            "tags": []
          },
          "execution_count": 80
        }
      ]
    },
    {
      "cell_type": "markdown",
      "metadata": {
        "id": "g8L9dhwY5nOn"
      },
      "source": [
        "#Maski logiczne"
      ]
    },
    {
      "cell_type": "code",
      "metadata": {
        "id": "HYuoOp3B5o01",
        "outputId": "7522d8e3-c580-4132-9bb2-baffbca9155e",
        "colab": {
          "base_uri": "https://localhost:8080/",
          "height": 187
        }
      },
      "source": [
        "a = np.arange(start=-10, stop=10, step=0.5)\n",
        "a = a.reshape(10, -1)\n",
        "a"
      ],
      "execution_count": 85,
      "outputs": [
        {
          "output_type": "execute_result",
          "data": {
            "text/plain": [
              "array([[-10. ,  -9.5,  -9. ,  -8.5],\n",
              "       [ -8. ,  -7.5,  -7. ,  -6.5],\n",
              "       [ -6. ,  -5.5,  -5. ,  -4.5],\n",
              "       [ -4. ,  -3.5,  -3. ,  -2.5],\n",
              "       [ -2. ,  -1.5,  -1. ,  -0.5],\n",
              "       [  0. ,   0.5,   1. ,   1.5],\n",
              "       [  2. ,   2.5,   3. ,   3.5],\n",
              "       [  4. ,   4.5,   5. ,   5.5],\n",
              "       [  6. ,   6.5,   7. ,   7.5],\n",
              "       [  8. ,   8.5,   9. ,   9.5]])"
            ]
          },
          "metadata": {
            "tags": []
          },
          "execution_count": 85
        }
      ]
    },
    {
      "cell_type": "code",
      "metadata": {
        "id": "LOhv1CPo5uB9",
        "outputId": "742a88c4-75f7-4a96-88ff-a66fdf963a7b",
        "colab": {
          "base_uri": "https://localhost:8080/",
          "height": 187
        }
      },
      "source": [
        "a > 0 #jesli wartosc jest wieksza od zera to True, jesli mniejsza to False"
      ],
      "execution_count": 86,
      "outputs": [
        {
          "output_type": "execute_result",
          "data": {
            "text/plain": [
              "array([[False, False, False, False],\n",
              "       [False, False, False, False],\n",
              "       [False, False, False, False],\n",
              "       [False, False, False, False],\n",
              "       [False, False, False, False],\n",
              "       [False,  True,  True,  True],\n",
              "       [ True,  True,  True,  True],\n",
              "       [ True,  True,  True,  True],\n",
              "       [ True,  True,  True,  True],\n",
              "       [ True,  True,  True,  True]])"
            ]
          },
          "metadata": {
            "tags": []
          },
          "execution_count": 86
        }
      ]
    },
    {
      "cell_type": "code",
      "metadata": {
        "id": "PvLTvJsV5_8M",
        "outputId": "8d3e8372-780f-40f6-e096-f18399c2d689",
        "colab": {
          "base_uri": "https://localhost:8080/",
          "height": 51
        }
      },
      "source": [
        "#przekazywanie takiej maski spowoduje uzyskanie jedynie elementow spelniajacych warunek\n",
        "a[a>0]"
      ],
      "execution_count": 87,
      "outputs": [
        {
          "output_type": "execute_result",
          "data": {
            "text/plain": [
              "array([0.5, 1. , 1.5, 2. , 2.5, 3. , 3.5, 4. , 4.5, 5. , 5.5, 6. , 6.5,\n",
              "       7. , 7.5, 8. , 8.5, 9. , 9.5])"
            ]
          },
          "metadata": {
            "tags": []
          },
          "execution_count": 87
        }
      ]
    },
    {
      "cell_type": "code",
      "metadata": {
        "id": "p_hfkRvA6VPc"
      },
      "source": [
        "b = np.bitwise_and(a > -5, a < 5) #funkcja pomagajaca robic warunek AND"
      ],
      "execution_count": 90,
      "outputs": []
    },
    {
      "cell_type": "code",
      "metadata": {
        "id": "BPcjnx6n6htT",
        "outputId": "65580c37-7a0b-43a7-a3ce-91593ad3d604",
        "colab": {
          "base_uri": "https://localhost:8080/",
          "height": 51
        }
      },
      "source": [
        "#wstawianie powyzszej maski\n",
        "a[b]"
      ],
      "execution_count": 91,
      "outputs": [
        {
          "output_type": "execute_result",
          "data": {
            "text/plain": [
              "array([-4.5, -4. , -3.5, -3. , -2.5, -2. , -1.5, -1. , -0.5,  0. ,  0.5,\n",
              "        1. ,  1.5,  2. ,  2.5,  3. ,  3.5,  4. ,  4.5])"
            ]
          },
          "metadata": {
            "tags": []
          },
          "execution_count": 91
        }
      ]
    },
    {
      "cell_type": "code",
      "metadata": {
        "id": "o6yje8bP6tcj",
        "outputId": "03af0e4d-830e-450f-c683-92d41e5d68ee",
        "colab": {
          "base_uri": "https://localhost:8080/",
          "height": 68
        }
      },
      "source": [
        "b = np.bitwise_or(a > 5, a < -5)\n",
        "a[b]"
      ],
      "execution_count": 92,
      "outputs": [
        {
          "output_type": "execute_result",
          "data": {
            "text/plain": [
              "array([-10. ,  -9.5,  -9. ,  -8.5,  -8. ,  -7.5,  -7. ,  -6.5,  -6. ,\n",
              "        -5.5,   5.5,   6. ,   6.5,   7. ,   7.5,   8. ,   8.5,   9. ,\n",
              "         9.5])"
            ]
          },
          "metadata": {
            "tags": []
          },
          "execution_count": 92
        }
      ]
    }
  ]
}